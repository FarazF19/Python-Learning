{
 "cells": [
  {
   "cell_type": "code",
   "execution_count": 1,
   "metadata": {},
   "outputs": [
    {
     "name": "stdout",
     "output_type": "stream",
     "text": [
      "Voter\n"
     ]
    }
   ],
   "source": [
    "#if-else\n",
    "age= 19\n",
    "if age>18:\n",
    "    print(\"Voter\")\n",
    "else:\n",
    "    print(\"Voter\")"
   ]
  },
  {
   "cell_type": "code",
   "execution_count": 4,
   "metadata": {},
   "outputs": [
    {
     "name": "stdout",
     "output_type": "stream",
     "text": [
      "Not Voter\n"
     ]
    }
   ],
   "source": [
    "##Elseif\n",
    "age= 17\n",
    "if age>18:\n",
    "    print(\"Voter\")\n",
    "elif age>20:\n",
    "    print(\"Adult\")\n",
    "else:\n",
    "    print(\"Not Voter\")"
   ]
  },
  {
   "cell_type": "code",
   "execution_count": 5,
   "metadata": {},
   "outputs": [
    {
     "name": "stdout",
     "output_type": "stream",
     "text": [
      "2024 is a leap year.\n"
     ]
    }
   ],
   "source": [
    "##Nested Conditions\n",
    "def is_leap_year(year):\n",
    "    \"\"\"\n",
    "    Determines if a given year is a leap year using nested if statements.\n",
    "    \n",
    "    Args:\n",
    "        year (int): The year to check.\n",
    "    \n",
    "    Returns:\n",
    "        bool: True if it's a leap year, False otherwise.\n",
    "    \"\"\"\n",
    "    if year % 4 == 0:\n",
    "        if year % 100 == 0:\n",
    "            if year % 400 == 0:\n",
    "                return True  # Divisible by 400\n",
    "            else:\n",
    "                return False  # Divisible by 100 but not 400\n",
    "        else:\n",
    "            return True  # Divisible by 4 but not 100\n",
    "    else:\n",
    "        return False  # Not divisible by 4\n",
    "\n",
    "# Input from user\n",
    "try:\n",
    "    year = int(input(\"Enter a year: \"))\n",
    "    if is_leap_year(year):\n",
    "        print(f\"{year} is a leap year.\")\n",
    "    else:\n",
    "        print(f\"{year} is not a leap year.\")\n",
    "except ValueError:\n",
    "    print(\"Please enter a valid integer year.\")\n"
   ]
  }
 ],
 "metadata": {
  "kernelspec": {
   "display_name": "myenv",
   "language": "python",
   "name": "python3"
  },
  "language_info": {
   "codemirror_mode": {
    "name": "ipython",
    "version": 3
   },
   "file_extension": ".py",
   "mimetype": "text/x-python",
   "name": "python",
   "nbconvert_exporter": "python",
   "pygments_lexer": "ipython3",
   "version": "3.12.3"
  }
 },
 "nbformat": 4,
 "nbformat_minor": 2
}
